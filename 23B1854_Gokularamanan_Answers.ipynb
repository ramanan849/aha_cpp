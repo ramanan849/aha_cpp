{
 "cells": [
  {
   "cell_type": "markdown",
   "metadata": {},
   "source": [
    "# Gokularamanan R S <br> 23B1854"
   ]
  },
  {
   "cell_type": "markdown",
   "metadata": {},
   "source": [
    "# **Basic Python**"
   ]
  },
  {
   "cell_type": "markdown",
   "metadata": {},
   "source": [
    "## 1.a \n",
    "Give a function F that takes a single argument n. This function should print a sequence of n strings as described in the examples below: <br>\n",
    "Ex: **n = 3**\n",
    "\n",
    "--A--<br>\n",
    "-BAB-<br>\n",
    "CBABC<br>\n",
    "\n",
    "**n = 4**\n",
    "\n",
    "---A---<br>\n",
    "--BAB--<br>\n",
    "-CBABC-<br>\n",
    "DCBABCD"
   ]
  },
  {
   "cell_type": "code",
   "execution_count": 1,
   "metadata": {},
   "outputs": [
    {
     "name": "stdout",
     "output_type": "stream",
     "text": [
      "---------A---------\n",
      "--------BAB--------\n",
      "-------CBABC-------\n",
      "------DCBABCD------\n",
      "-----EDCBABCDE-----\n",
      "----FEDCBABCDEF----\n",
      "---GFEDCBABCDEFG---\n",
      "--HGFEDCBABCDEFGH--\n",
      "-IHGFEDCBABCDEFGHI-\n",
      "JIHGFEDCBABCDEFGHIJ\n",
      "-----A-----\n",
      "----BAB----\n",
      "---CBABC---\n",
      "--DCBABCD--\n",
      "-EDCBABCDE-\n",
      "FEDCBABCDEF\n"
     ]
    }
   ],
   "source": [
    "def F(n):\n",
    "    for i in range(n):\n",
    "        print((n-1-i)*'-',end='')\n",
    "        for j in range(i,-1,-1):\n",
    "            print(chr(65+j),end='')\n",
    "        for j in range(1,i+1):\n",
    "            print(chr(65+j),end='')\n",
    "        print((n-1-i)*'-')\n",
    "        \n",
    "            \n",
    "    pass\n",
    "\n",
    "# Tests\n",
    "\n",
    "F(10)\n",
    "F(6)"
   ]
  },
  {
   "cell_type": "markdown",
   "metadata": {},
   "source": [
    "## 1.b\n",
    "Make a function F that takes only one argument, a dictionary(dict) d.\n",
    "The keys of d are integers and the values of d are a tuple of type (x (int), y (int)).\n",
    "You must print out the dict in the format \"-key-, -x-, -y-\" with each entry in a new line. Print it for each of the three sorted orders, by key values ascending, by x values descending, by y values ascending."
   ]
  },
  {
   "cell_type": "code",
   "execution_count": 30,
   "metadata": {},
   "outputs": [
    {
     "data": {
      "text/plain": [
       "[(1, (1, 2)), (2, (-1, 4)), (4, (2, 3)), (5, (-4, 3))]"
      ]
     },
     "execution_count": 30,
     "metadata": {},
     "output_type": "execute_result"
    }
   ],
   "source": [
    "d = {1 : (1, 2), 2 : (-1, 4), 5 : (-4, 3), 4 : (2, 3)}\n",
    "ass = list(d.items())\n",
    "sorted(ass)"
   ]
  },
  {
   "cell_type": "code",
   "execution_count": 33,
   "metadata": {},
   "outputs": [
    {
     "name": "stdout",
     "output_type": "stream",
     "text": [
      "1. Key values ascending: \n",
      "-1-, -2-, -1-\n",
      "-2-, -4-, --1-\n",
      "-4-, -3-, -2-\n",
      "-5-, -3-, --4-\n",
      "2. x values descending: \n",
      "-4-, -2-, -3-\n",
      "-1-, -1-, -2-\n",
      "-2-, --1-, -4-\n",
      "-5-, --4-, -3-\n",
      "3. y values ascending: \n",
      "-1-, -1-, -2-\n",
      "-5-, --4-, -3-\n",
      "-4-, -2-, -3-\n",
      "-2-, --1-, -4-\n",
      "\n",
      "***\n",
      "\n",
      "1. Key values ascending: \n",
      "--8-, -4-, -2-\n",
      "-5-, -9-, --10-\n",
      "-6-, -4-, --3-\n",
      "-7-, -2-, -1-\n",
      "2. x values descending: \n",
      "-5-, -9-, --10-\n",
      "--8-, -4-, -2-\n",
      "-7-, -2-, -1-\n",
      "-6-, --3-, -4-\n",
      "3. y values ascending: \n",
      "-5-, -9-, --10-\n",
      "-7-, -2-, -1-\n",
      "--8-, -4-, -2-\n",
      "-6-, --3-, -4-\n",
      "\n",
      "***\n",
      "\n"
     ]
    }
   ],
   "source": [
    "def F(d : dict):\n",
    "    print('1. Key values ascending: ')\n",
    "    for i in sorted(d.keys()):\n",
    "        print(f'-{i}-, -{sorted(d[i])[1]}-, -{sorted(d[i])[0]}-')\n",
    "    # Start coding\n",
    "    pass\n",
    "    print('2. x values descending: ')\n",
    "    for key, (x, y) in sorted(d.items(), key=lambda item: item[1][0], reverse=True):\n",
    "        print(f\"-{key}-, -{x}-, -{y}-\")\n",
    "    print('3. y values ascending: ')\n",
    "    for key, (x, y) in sorted(d.items(), key=lambda item: item[1][1]):\n",
    "        print(f\"-{key}-, -{x}-, -{y}-\")\n",
    "    print('\\n***\\n')\n",
    "\n",
    "# Tests\n",
    "F({1 : (1, 2), 2 : (-1, 4), 5 : (-4, 3), 4 : (2, 3)})\n",
    "F({-8 : (4, 2), 6 : (-3, 4), 7 : (2, 1), 5 : (9, -10)})"
   ]
  },
  {
   "cell_type": "markdown",
   "metadata": {},
   "source": [
    "## 2 Working with Student Records\n",
    "\n",
    "Use the data in **student_records.csv** to complete the given tasks. Do not include any external libraries. Use a Python dictionary if required.\n",
    "\n",
    "### Reference\n",
    "- [Python Dictionaries](https://www.w3schools.com/python/python_dictionaries.asp)\n"
   ]
  },
  {
   "cell_type": "markdown",
   "metadata": {},
   "source": [
    "#### 2.a: open the student_records.csv file and print out the first 10 rows"
   ]
  },
  {
   "cell_type": "code",
   "execution_count": null,
   "metadata": {},
   "outputs": [
    {
     "name": "stdout",
     "output_type": "stream",
     "text": [
      "Header: ['roll_number', 'department', 'credit', 'course_name', 'course_type', 'grade']\n",
      "{'roll_number': '588946', 'department': 'MA', 'credit': '3', 'course_name': 'EC250', 'course_type': 'hasmed_elective', 'grade': 'AB'}\n",
      "{'roll_number': '145372', 'department': 'EP', 'credit': '4', 'course_name': 'EP407', 'course_type': 'hasmed_elective', 'grade': 'CC'}\n",
      "{'roll_number': '834515', 'department': 'MA', 'credit': '8', 'course_name': 'EP885', 'course_type': 'hasmed_elective', 'grade': 'BB'}\n",
      "{'roll_number': '344265', 'department': 'CSE', 'credit': '6', 'course_name': 'CSE699', 'course_type': 'honours', 'grade': 'AB'}\n",
      "{'roll_number': '358405', 'department': 'MA', 'credit': '3', 'course_name': 'EE460', 'course_type': 'minor', 'grade': 'AP'}\n",
      "{'roll_number': '781075', 'department': 'CE', 'credit': '8', 'course_name': 'CE540', 'course_type': 'honours', 'grade': 'CC'}\n",
      "{'roll_number': '180828', 'department': 'CSE', 'credit': '6', 'course_name': 'CE880', 'course_type': 'minor', 'grade': 'AB'}\n",
      "{'roll_number': '981238', 'department': 'MM', 'credit': '4', 'course_name': 'CSE226', 'course_type': 'minor', 'grade': 'AB'}\n",
      "{'roll_number': '836881', 'department': 'MM', 'credit': '8', 'course_name': 'MM530', 'course_type': 'core', 'grade': 'AA'}\n",
      "{'roll_number': '310604', 'department': 'EE', 'credit': '8', 'course_name': 'EE202', 'course_type': 'core', 'grade': 'AB'}\n"
     ]
    }
   ],
   "source": [
    "#TODO\n",
    "record = []\n",
    "with open('student_records.csv', 'r') as f:\n",
    "\n",
    "    data = f.readlines()\n",
    "    #print(data) # data is stored in the form of a list\n",
    "    header = data[0].strip().split(',') # data[0].strip() removes the non-graphic character '\\n' from the line/row\n",
    "    print(\"Header:\", header)\n",
    "    for i, line in enumerate(data[1:]):  # Skipping the header here\n",
    "        values = line.strip().split(',')    \n",
    "        record.append(dict(zip(header, values)))\n",
    "\n",
    "for i in range(10):\n",
    "    print(record[i])"
   ]
  },
  {
   "cell_type": "markdown",
   "metadata": {},
   "source": [
    "#### 2.b: Print out the total credits and calculate CPI of each student. \n",
    "CPI is the weighted average of core courses, and electives (weights being the letter grades converted to number AP,AA=10, AB=9, BB=9, BC=7, CC=6)"
   ]
  },
  {
   "cell_type": "code",
   "execution_count": 4,
   "metadata": {},
   "outputs": [
    {
     "name": "stdout",
     "output_type": "stream",
     "text": [
      "Roll_number, CPI\n",
      "836881 8.386178861788618\n",
      "214270 7.877729257641922\n",
      "681499 8.256410256410257\n",
      "788020 8.015544041450777\n",
      "810863 8.151041666666666\n",
      "608952 8.326693227091633\n",
      "787967 8.411458333333334\n",
      "716985 8.183783783783785\n",
      "208100 8.587912087912088\n",
      "488661 8.60483870967742\n",
      "628849 8.71584699453552\n",
      "597353 8.12\n",
      "733782 8.420118343195266\n",
      "971123 7.961904761904762\n",
      "572815 8.316037735849056\n",
      "960395 8.625954198473282\n",
      "718510 8.429347826086957\n",
      "282482 8.289473684210526\n",
      "301135 8.325242718446601\n",
      "703403 8.338582677165354\n",
      "327122 8.16260162601626\n",
      "750259 8.354066985645932\n",
      "993835 8.434285714285714\n",
      "388969 8.314410480349345\n",
      "907454 8.269387755102041\n",
      "841365 7.994350282485875\n",
      "928288 8.513089005235603\n",
      "970791 8.122727272727273\n",
      "816041 8.462025316455696\n",
      "589528 8.732026143790849\n",
      "283796 8.815165876777252\n",
      "144528 8.157894736842104\n",
      "500658 8.16826923076923\n",
      "888886 8.270531400966183\n",
      "973158 8.512953367875648\n",
      "482623 8.401574803149606\n",
      "680096 8.045751633986928\n",
      "145372 7.745664739884393\n",
      "329535 8.229299363057326\n",
      "159438 8.380681818181818\n",
      "362471 7.929906542056075\n",
      "143142 8.782051282051283\n",
      "344265 8.699346405228757\n",
      "847809 8.210727969348659\n",
      "582912 8.656108597285067\n",
      "581065 8.224489795918368\n",
      "381227 8.223463687150838\n",
      "194063 8.140127388535031\n",
      "124663 8.126637554585153\n",
      "871746 8.212962962962964\n",
      "199713 8.290697674418604\n",
      "773982 8.068181818181818\n",
      "265922 8.347457627118644\n",
      "138296 8.275\n",
      "692318 8.166666666666666\n",
      "310604 8.333333333333334\n",
      "358405 8.587378640776699\n",
      "571782 8.423963133640553\n",
      "581858 8.050925925925926\n",
      "207443 8.304347826086957\n",
      "180828 8.096045197740112\n",
      "870642 8.01863354037267\n",
      "391848 8.43778801843318\n",
      "458200 8.394736842105264\n",
      "613401 8.440191387559809\n",
      "845623 8.375527426160337\n",
      "461584 8.235042735042734\n",
      "150503 8.289017341040463\n",
      "955757 8.290836653386455\n",
      "465496 8.303571428571429\n",
      "630568 8.244239631336406\n",
      "986057 8.06532663316583\n",
      "379479 8.246153846153845\n",
      "836431 7.9\n",
      "364146 8.395555555555555\n",
      "998293 8.695652173913043\n",
      "534763 7.930379746835443\n",
      "461971 8.293650793650794\n",
      "608522 8.61006289308176\n",
      "851029 8.322981366459627\n",
      "834515 8.21608040201005\n",
      "775967 8.431472081218274\n",
      "881983 8.325443786982248\n",
      "203200 8.789808917197453\n",
      "995208 7.7834394904458595\n",
      "143856 8.487562189054726\n",
      "381526 8.425\n",
      "781075 8.170731707317072\n",
      "294697 8.572490706319703\n",
      "270007 8.033195020746888\n",
      "478606 8.319672131147541\n",
      "626000 8.428571428571429\n",
      "517837 8.580487804878048\n",
      "782129 8.53804347826087\n",
      "588946 8.693467336683417\n",
      "981238 8.244047619047619\n",
      "485484 8.36111111111111\n",
      "721490 8.34468085106383\n",
      "879634 8.738916256157635\n",
      "521087 7.910313901345291\n"
     ]
    }
   ],
   "source": [
    "#TODO\n",
    "roll_nos = []\n",
    "roll_cpi = dict()\n",
    "def grade(letter):\n",
    "    if letter =='AP':\n",
    "        return 10\n",
    "    if letter=='AA':\n",
    "        return 10\n",
    "    if letter=='AB':\n",
    "        return 9\n",
    "    if letter=='BB':\n",
    "        return 8\n",
    "    if letter=='BC':\n",
    "        return 7\n",
    "    if letter=='CC':\n",
    "        return 6\n",
    "for i in record:\n",
    "        roll_nos.append(i['roll_number'])\n",
    "roll_nos = list(set(roll_nos))  # list(set(roll_nos)) only gives the unique elements\n",
    "for j in roll_nos:   \n",
    "    cpi = 0\n",
    "    num = 0\n",
    "    for i in record:\n",
    "        if i['roll_number'] ==j:\n",
    "            num+=int(i['credit'])\n",
    "            cpi+=int(i['credit'])*(grade(i['grade']))\n",
    "    cpi=cpi/num\n",
    "    roll_cpi[j] = cpi\n",
    "print('Roll_number, CPI')\n",
    "for k in roll_cpi:\n",
    "    print(k,roll_cpi[k])    \n"
   ]
  },
  {
   "cell_type": "code",
   "execution_count": 5,
   "metadata": {},
   "outputs": [
    {
     "name": "stdout",
     "output_type": "stream",
     "text": [
      "100\n"
     ]
    }
   ],
   "source": [
    "print(len((roll_cpi)))"
   ]
  },
  {
   "cell_type": "markdown",
   "metadata": {},
   "source": [
    "#### 2.c: Print out the names of all students who meet the graduation requirements \n",
    "Atleast 20 credist of core course, 15 credits of department elective, 10 credits of flexible elective and 5 credits of hasmed electives"
   ]
  },
  {
   "cell_type": "code",
   "execution_count": 6,
   "metadata": {},
   "outputs": [
    {
     "data": {
      "text/plain": [
       "3913"
      ]
     },
     "execution_count": 6,
     "metadata": {},
     "output_type": "execute_result"
    }
   ],
   "source": [
    "len(record)"
   ]
  },
  {
   "cell_type": "code",
   "execution_count": 7,
   "metadata": {},
   "outputs": [
    {
     "name": "stdout",
     "output_type": "stream",
     "text": [
      "Those who meet the graduate requirements:\n",
      "['836881', '214270', '681499', '810863', '608952', '787967', '716985', '488661', '628849', '971123', '572815', '960395', '282482', '703403', '327122', '750259', '388969', '928288', '970791', '283796', '144528', '500658', '888886', '973158', '482623', '159438', '362471', '143142', '581065', '381227', '124663', '871746', '773982', '265922', '692318', '310604', '571782', '581858', '207443', '180828', '391848', '845623', '150503', '955757', '630568', '986057', '379479', '998293', '534763', '461971', '608522', '834515', '881983', '203200', '143856', '781075', '294697', '626000', '517837', '782129', '588946', '981238', '485484', '721490', '879634', '521087']\n",
      "***\n",
      "Count = 66\n"
     ]
    }
   ],
   "source": [
    "#TODO\n",
    "# !!! NAMES AREN'T GIVEN !!!! PRINTING THE ROLL NOS INSTEAD !!!\n",
    "count=0\n",
    "graduating_roll = []\n",
    "roll_6_course_types = {}\n",
    "minor_roll = {} # for part 2.(d)\n",
    "print(\"Those who meet the graduate requirements:\")\n",
    "for i in roll_nos:\n",
    "    core,dept_elec, flex_elec, hasmed_elec, alc,honours= 0,0,0,0,0,0\n",
    "    minor_history = {}\n",
    "    for dicti in record:\n",
    "        if dicti['roll_number']==i:\n",
    "            credits = int(dicti['credit'])\n",
    "            if dicti['course_type']=='hasmed_elective':\n",
    "                hasmed_elec+= credits\n",
    "            elif dicti['course_type']=='flexible_elective':\n",
    "                flex_elec+=credits\n",
    "            elif dicti['course_type']=='core':\n",
    "                core+=credits\n",
    "            elif dicti['course_type']=='department_elective':\n",
    "                dept_elec+=credits\n",
    "            elif dicti['course_type']=='honours':\n",
    "                honours+=credits\n",
    "            elif dicti['course_type']=='alc':\n",
    "                alc+=credits\n",
    "            elif dicti['course_type']=='minor':\n",
    "                dept_code = dicti['course_name'][:2]  \n",
    "                credits = int(dicti['credit'])\n",
    "                if dept_code not in minor_history:\n",
    "                    minor_history[dept_code] = 0  \n",
    "                minor_history[dept_code] += credits\n",
    "    minor_roll[i]=minor_history\n",
    "\n",
    "    if core>=20 and dept_elec >=15 and flex_elec>=10 and hasmed_elec >=5:\n",
    "        count+=1\n",
    "        graduating_roll.append(i)\n",
    "        #print(i)\n",
    "    roll_6_course_types[i] = [core,dept_elec,flex_elec,hasmed_elec,honours,alc] # used for part 2.(e)\n",
    "print(graduating_roll)\n",
    "print(f\"***\\nCount = {count}\")"
   ]
  },
  {
   "cell_type": "code",
   "execution_count": 8,
   "metadata": {},
   "outputs": [
    {
     "name": "stdout",
     "output_type": "stream",
     "text": [
      "{'836881': [24, 37, 11, 44, 28, 50], '214270': [31, 26, 28, 41, 38, 30], '681499': [34, 32, 42, 40, 23, 27], '788020': [39, 15, 3, 33, 24, 42], '810863': [46, 28, 28, 6, 13, 35], '608952': [40, 28, 56, 32, 34, 43], '787967': [22, 39, 27, 32, 35, 21], '716985': [31, 34, 41, 6, 11, 24], '208100': [31, 10, 44, 23, 17, 22], '488661': [42, 42, 32, 37, 24, 60], '628849': [25, 29, 15, 18, 33, 18], '597353': [10, 28, 18, 21, 18, 35], '733782': [14, 21, 61, 3, 16, 22], '971123': [31, 16, 31, 31, 33, 46], '572815': [26, 23, 42, 13, 28, 47], '960395': [34, 33, 17, 38, 50, 46], '718510': [23, 32, 6, 57, 24, 18], '282482': [45, 26, 39, 20, 55, 31], '301135': [19, 28, 38, 14, 37, 41], '703403': [27, 30, 18, 33, 54, 39], '327122': [60, 32, 59, 39, 15, 31], '750259': [36, 24, 33, 31, 23, 49], '993835': [15, 50, 22, 12, 23, 19], '388969': [43, 36, 30, 11, 22, 44], '907454': [16, 38, 8, 39, 48, 46], '841365': [7, 46, 23, 37, 29, 14], '928288': [32, 27, 33, 35, 30, 26], '970791': [34, 30, 27, 12, 54, 43], '816041': [41, 13, 22, 14, 9, 33], '589528': [24, 14, 49, 9, 30, 20], '283796': [45, 38, 19, 12, 35, 30], '144528': [26, 28, 28, 30, 51, 42], '500658': [34, 37, 14, 43, 26, 33], '888886': [53, 33, 22, 19, 23, 17], '973158': [22, 37, 28, 24, 15, 35], '482623': [47, 21, 25, 30, 42, 41], '680096': [10, 21, 17, 20, 48, 15], '145372': [20, 31, 8, 39, 18, 24], '329535': [25, 8, 56, 7, 6, 28], '159438': [36, 25, 24, 19, 12, 30], '362471': [39, 28, 36, 50, 14, 8], '143142': [26, 31, 34, 44, 38, 31], '344265': [11, 18, 20, 31, 27, 18], '847809': [15, 22, 18, 45, 16, 79], '582912': [22, 12, 55, 20, 54, 31], '581065': [21, 35, 11, 19, 32, 39], '381227': [25, 41, 17, 34, 3, 30], '194063': [7, 40, 24, 32, 29, 13], '124663': [53, 22, 19, 6, 43, 49], '871746': [31, 29, 20, 31, 28, 63], '199713': [35, 20, 8, 42, 21, 10], '773982': [53, 47, 17, 22, 57, 43], '265922': [51, 25, 49, 38, 15, 31], '138296': [14, 70, 16, 14, 36, 21], '692318': [33, 44, 44, 26, 20, 32], '310604': [26, 35, 32, 22, 31, 45], '358405': [15, 12, 49, 44, 34, 23], '571782': [23, 23, 14, 33, 32, 54], '581858': [50, 42, 14, 40, 24, 23], '207443': [45, 21, 14, 31, 18, 22], '180828': [29, 22, 40, 23, 7, 41], '870642': [29, 8, 31, 28, 16, 41], '391848': [35, 59, 28, 32, 15, 20], '458200': [66, 25, 16, 4, 26, 18], '613401': [39, 3, 30, 43, 54, 14], '845623': [26, 41, 40, 62, 11, 38], '461584': [18, 47, 40, 42, 41, 3], '150503': [47, 25, 34, 30, 19, 3], '955757': [25, 41, 28, 36, 22, 69], '465496': [22, 12, 32, 16, 32, 8], '630568': [28, 45, 21, 39, 48, 6], '986057': [22, 61, 31, 34, 14, 24], '379479': [72, 16, 31, 36, 52, 15], '836431': [7, 16, 25, 30, 42, 9], '364146': [21, 11, 30, 32, 40, 54], '998293': [24, 55, 31, 40, 18, 27], '534763': [23, 30, 11, 37, 25, 17], '461971': [42, 39, 44, 44, 16, 22], '608522': [26, 22, 24, 30, 11, 27], '851029': [16, 38, 16, 44, 23, 12], '834515': [50, 15, 53, 28, 32, 6], '775967': [6, 46, 19, 46, 24, 33], '881983': [25, 22, 22, 29, 41, 10], '203200': [37, 19, 16, 21, 26, 16], '995208': [21, 6, 33, 28, 9, 36], '143856': [53, 29, 23, 17, 15, 29], '381526': [13, 20, 24, 29, 32, 8], '781075': [63, 23, 46, 36, 32, 26], '294697': [38, 25, 54, 56, 35, 47], '270007': [17, 22, 54, 47, 37, 42], '478606': [11, 53, 51, 36, 31, 24], '626000': [23, 38, 23, 54, 36, 15], '517837': [29, 16, 16, 40, 41, 43], '782129': [34, 24, 15, 24, 25, 39], '588946': [34, 30, 25, 26, 20, 27], '981238': [64, 17, 10, 29, 8, 18], '485484': [32, 36, 30, 34, 42, 28], '721490': [63, 25, 26, 56, 15, 23], '879634': [33, 16, 46, 14, 23, 34], '521087': [37, 24, 19, 7, 45, 61]}\n"
     ]
    }
   ],
   "source": [
    "print(roll_6_course_types) # I am gonna use this for the honours eligibility question, 2.e"
   ]
  },
  {
   "cell_type": "code",
   "execution_count": 9,
   "metadata": {},
   "outputs": [
    {
     "name": "stdout",
     "output_type": "stream",
     "text": [
      "100\n",
      "{'836881': {'CH': 10, 'EE': 16, 'EP': 14, 'CS': 6, 'EC': 6}, '214270': {'IE': 10, 'EE': 3, 'CE': 8, 'EP': 8, 'ME': 6}, '681499': {'EC': 6, 'EP': 4, 'MA': 3, 'CE': 19, 'CS': 4}, '788020': {'IE': 14, 'EE': 3, 'CS': 6, 'MA': 14}, '810863': {'EP': 18, 'CS': 10, 'MM': 8}, '608952': {'ME': 12, 'EE': 6}, '787967': {'IE': 6, 'CH': 4, 'CE': 6}, '716985': {'CS': 12, 'ME': 4, 'CE': 16, 'CH': 6}, '208100': {'IE': 4, 'MA': 8, 'ME': 8, 'CE': 8, 'CH': 3, 'MM': 4}, '488661': {'MA': 4, 'EP': 3, 'CH': 4}, '628849': {'EC': 12, 'MM': 11, 'EP': 19, 'CH': 3}, '597353': {'IE': 10, 'EC': 4, 'EE': 8, 'CE': 6, 'MM': 16, 'EP': 6, 'CH': 8, 'ME': 4, 'MA': 8}, '733782': {'EE': 6, 'IE': 10, 'CS': 8, 'EC': 8}, '971123': {'CS': 15, 'IE': 7}, '572815': {'CE': 12, 'EE': 6, 'ME': 8, 'EP': 3, 'MA': 4}, '960395': {'MM': 4, 'CE': 8, 'MA': 11, 'IE': 10, 'ME': 3, 'EP': 8}, '718510': {'IE': 10, 'MM': 14}, '282482': {'EC': 4, 'ME': 8}, '301135': {'MA': 6, 'CH': 8, 'EE': 11, 'EP': 4}, '703403': {'CS': 10, 'CE': 3, 'ME': 14, 'EE': 15, 'EP': 3, 'CH': 8}, '327122': {'IE': 6, 'CE': 4}, '750259': {'MA': 3, 'CH': 6, 'CE': 4}, '993835': {'IE': 8, 'CS': 12, 'ME': 6, 'EP': 8}, '388969': {'CE': 12, 'MM': 6, 'EP': 11, 'EE': 8, 'EC': 6}, '907454': {'IE': 12, 'CE': 6, 'EP': 11, 'CH': 4, 'MA': 13, 'EE': 4}, '841365': {'EP': 6, 'MM': 6, 'CH': 6, 'EC': 3}, '928288': {'CE': 4, 'MA': 4}, '970791': {'MM': 6, 'CS': 8, 'CH': 6}, '816041': {'EC': 6, 'CH': 8, 'IE': 12}, '589528': {'CH': 4, 'CE': 3}, '283796': {'MM': 4, 'MA': 16, 'EP': 4, 'EE': 8}, '144528': {'MA': 23}, '500658': {'ME': 6, 'MA': 7, 'CS': 8}, '888886': {'IE': 18, 'CS': 3, 'MM': 13, 'EE': 6}, '973158': {'ME': 12, 'MA': 3, 'EP': 3, 'CS': 3, 'CH': 11}, '482623': {'EE': 6, 'EC': 8, 'CS': 11, 'ME': 3, 'MM': 4, 'CH': 16}, '680096': {'EC': 3, 'IE': 8, 'CS': 3, 'CE': 8}, '145372': {'EC': 10, 'ME': 4, 'EE': 10, 'MA': 6, 'CH': 3}, '329535': {'EP': 11, 'MA': 8, 'CE': 8}, '159438': {'CS': 6, 'IE': 16, 'EC': 4, 'MM': 4}, '362471': {'CE': 8, 'CS': 4, 'CH': 6, 'EC': 6, 'IE': 8, 'EP': 3, 'MA': 4}, '143142': {'CH': 6, 'EC': 7, 'MA': 14, 'EP': 3}, '344265': {'CH': 3, 'ME': 15, 'CE': 10}, '847809': {'ME': 20, 'EP': 16, 'CH': 12, 'EE': 10, 'CE': 8}, '582912': {'EC': 9, 'CE': 6, 'EE': 6, 'MM': 6}, '581065': {'IE': 6, 'MA': 7, 'CH': 11, 'MM': 4, 'EE': 11}, '381227': {'CS': 22, 'MM': 7}, '194063': {'EE': 4, 'CE': 4, 'CH': 4}, '124663': {'MM': 4, 'CE': 17, 'ME': 4, 'EP': 6, 'CS': 6}, '871746': {'CE': 6, 'EE': 8}, '199713': {'CE': 24, 'ME': 8, 'MA': 4}, '773982': {'MM': 3, 'CE': 10, 'CS': 4, 'MA': 4, 'EC': 4}, '265922': {'ME': 8, 'CS': 9, 'EE': 4, 'EC': 6}, '138296': {'CE': 4, 'MA': 3, 'CS': 4, 'EP': 4, 'IE': 4, 'EC': 10}, '692318': {'IE': 9, 'EP': 8}, '310604': {'CH': 3, 'ME': 4}, '358405': {'EE': 3, 'ME': 4, 'CH': 12, 'MM': 6, 'EC': 4}, '571782': {'CS': 8, 'MA': 17, 'CH': 7, 'EE': 6}, '581858': {'CH': 16, 'EE': 4, 'IE': 3}, '207443': {'CE': 4, 'MA': 6}, '180828': {'CE': 9, 'IE': 6}, '870642': {'MA': 4, 'CE': 4}, '391848': {'IE': 8, 'EE': 3, 'EP': 3, 'EC': 8, 'CH': 6}, '458200': {'MA': 6, 'EP': 9, 'ME': 4, 'EE': 8, 'CH': 8}, '613401': {'MA': 4, 'EC': 12, 'CH': 3, 'MM': 4, 'EP': 3}, '845623': {'EP': 10, 'CE': 3, 'CH': 3, 'ME': 3}, '461584': {'CE': 4, 'CS': 3, 'CH': 20, 'EP': 8, 'IE': 8}, '150503': {'EP': 4, 'CS': 8, 'MM': 3}, '955757': {'MA': 16, 'IE': 8, 'ME': 6}, '465496': {'CE': 15, 'ME': 14, 'IE': 11, 'EC': 6}, '630568': {'EC': 14, 'CH': 8, 'ME': 4, 'CE': 4}, '986057': {'EE': 3, 'CH': 4, 'CE': 6}, '379479': {'EE': 4, 'CH': 10, 'CS': 8, 'IE': 6, 'EP': 6, 'MM': 4}, '836431': {'EP': 4, 'CH': 6, 'CS': 14, 'MM': 7}, '364146': {'MM': 10, 'EC': 12, 'IE': 4, 'ME': 7, 'CH': 4}, '998293': {'CH': 8, 'MA': 4}, '534763': {'CS': 4, 'CH': 3, 'MM': 8}, '461971': {'EC': 6, 'ME': 11, 'IE': 8, 'EP': 12, 'CH': 8}, '608522': {'MM': 3, 'EE': 3, 'CE': 6, 'IE': 4, 'CH': 3}, '851029': {'MM': 12}, '834515': {'MM': 4, 'EE': 3, 'CH': 8}, '775967': {'EP': 6, 'CH': 4, 'CE': 3, 'MA': 3, 'ME': 3, 'EE': 4}, '881983': {'EE': 6, 'CH': 6, 'ME': 8}, '203200': {'EE': 8, 'EP': 6, 'CE': 8}, '995208': {'MM': 3, 'CS': 13, 'IE': 8}, '143856': {'ME': 11, 'MM': 4, 'MA': 4, 'EP': 8, 'CS': 8}, '381526': {'CS': 10, 'EE': 7, 'IE': 6, 'EC': 3, 'MM': 8}, '781075': {'EC': 11, 'MA': 9}, '294697': {'EE': 6, 'ME': 8}, '270007': {'MA': 8, 'MM': 3, 'CE': 8, 'CH': 3}, '478606': {'EP': 6, 'MA': 9, 'EC': 12, 'EE': 8, 'CS': 3}, '626000': {'CH': 7, 'MA': 3, 'IE': 8, 'EE': 3}, '517837': {'EP': 7, 'MA': 4, 'ME': 6, 'MM': 3}, '782129': {'MM': 14, 'IE': 6, 'CH': 3}, '588946': {'ME': 12, 'EP': 19, 'EE': 3, 'EC': 3}, '981238': {'CS': 7, 'ME': 3, 'CH': 3, 'IE': 3, 'EC': 3, 'EP': 3}, '485484': {'EC': 3, 'IE': 7, 'ME': 4}, '721490': {'ME': 14, 'MM': 4, 'EE': 3, 'CE': 6}, '879634': {'CE': 4, 'CH': 6, 'IE': 8, 'MA': 8, 'MM': 3, 'ME': 8}, '521087': {'CE': 6, 'MM': 11, 'ME': 9, 'IE': 4}}\n"
     ]
    }
   ],
   "source": [
    "print(len(minor_roll)) # gives the total number of students recorded in the csv file\n",
    "print(minor_roll) # gonna use this is 2.d"
   ]
  },
  {
   "cell_type": "markdown",
   "metadata": {},
   "source": [
    "#### 2.d: Print out the names of all students who completed a minor \n",
    "Atleast 10 credits with minor tag in a specific department"
   ]
  },
  {
   "cell_type": "code",
   "execution_count": 10,
   "metadata": {},
   "outputs": [
    {
     "name": "stdout",
     "output_type": "stream",
     "text": [
      "\n",
      "Those who successfully completed a minor: ['521087', '521087', '521087', '521087', '521087', '521087', '521087', '521087', '521087', '521087', '521087', '521087', '521087', '521087', '521087', '521087', '521087', '521087', '521087', '521087', '521087', '521087', '521087', '521087', '521087', '521087', '521087', '521087', '521087', '521087', '521087', '521087', '521087', '521087', '521087', '521087', '521087', '521087', '521087', '521087', '521087', '521087', '521087', '521087', '521087', '521087', '521087', '521087', '521087', '521087', '521087', '521087', '521087', '521087', '521087', '521087', '521087', '521087', '521087', '521087']\n",
      "***\n",
      "Count = 60\n"
     ]
    }
   ],
   "source": [
    "#TODO\n",
    "mcount = 0\n",
    "completed_minor=[]\n",
    "for j in minor_roll:\n",
    "    pika = False\n",
    "    for p in minor_roll[j]: # p is the inner dict's key\n",
    "        #print(p)\n",
    "        if minor_roll[j][p]>=10:\n",
    "            pika = True\n",
    "            break\n",
    "    if pika==1:\n",
    "                mcount+=1\n",
    "                completed_minor.append(i)\n",
    "print(f'\\nThose who successfully completed a minor: {completed_minor}')\n",
    "print(f\"***\\nCount = {mcount}\")"
   ]
  },
  {
   "cell_type": "markdown",
   "metadata": {},
   "source": [
    "#### 2.e: Print out the names of all students who completed a honours\n",
    "Atleast 10 credits with honours tag and 20 core credits"
   ]
  },
  {
   "cell_type": "code",
   "execution_count": 11,
   "metadata": {},
   "outputs": [
    {
     "name": "stdout",
     "output_type": "stream",
     "text": [
      "Those who successfully completed a honours: ['836881', '214270', '681499', '788020', '810863', '608952', '787967', '716985', '208100', '488661', '628849', '971123', '572815', '960395', '718510', '282482', '703403', '327122', '750259', '388969', '928288', '970791', '589528', '283796', '144528', '500658', '888886', '973158', '482623', '145372', '159438', '362471', '143142', '582912', '581065', '124663', '871746', '199713', '773982', '265922', '692318', '310604', '571782', '581858', '207443', '870642', '391848', '458200', '613401', '845623', '150503', '955757', '465496', '630568', '986057', '379479', '364146', '998293', '534763', '461971', '608522', '834515', '881983', '203200', '143856', '781075', '294697', '626000', '517837', '782129', '588946', '485484', '721490', '879634', '521087']\n",
      "***\n",
      "Count = 75\n"
     ]
    }
   ],
   "source": [
    "honor_roll = []\n",
    "hcount = 0\n",
    "for i in roll_6_course_types: # roll_6_course_types[i] = [core,dept_elec,flex_elec,hasmed_elec,honours,alc]\n",
    "    if roll_6_course_types[i][0]>=20 and roll_6_course_types[i][-2]>=10:\n",
    "        honor_roll.append(i)\n",
    "        hcount+=1\n",
    "print(f\"Those who successfully completed a honours: {honor_roll}\")\n",
    "print(f\"***\\nCount = {hcount}\")"
   ]
  },
  {
   "cell_type": "markdown",
   "metadata": {},
   "source": [
    "# **SciPy** "
   ]
  },
  {
   "cell_type": "markdown",
   "metadata": {},
   "source": [
    "## Part A\n",
    "Minimize the function $f(x, y) = 2(x - y - 3)^2 + 4(x + 2y + 1)^4$.<br>\n",
    "With the constraints : $ x - y \\ge -3, (x + 2)^2 + (y + 1)^2 \\le 5$ <br>\n",
    "Using scipy.optimize.minimize with constraints. (Hint: Look at the examples in the official documentation)"
   ]
  },
  {
   "cell_type": "code",
   "execution_count": 34,
   "metadata": {},
   "outputs": [
    {
     "name": "stdout",
     "output_type": "stream",
     "text": [
      "Values of x and y for f(x,y) minimization: x = 0.23492507482692077, y = -0.9285161885498311\n",
      "Minimized f(x,y) value = 7.345026153553885\n",
      "7.345026153553885\n"
     ]
    }
   ],
   "source": [
    "#TODO\n",
    "from scipy.optimize import minimize\n",
    "def f(inp):\n",
    "    x = inp[0]\n",
    "    y = inp[1]\n",
    "    return 2*(x-y-3)**2 + 4*(x+2*y+1)**4\n",
    "def cons1(inp):\n",
    "    return inp[0]-inp[1]+3\n",
    "def cons2(inp):\n",
    "    return (-(inp[0]+2)**2-(inp[1]+1)**2+5) # the inequality has to be >=0 \n",
    "x0 = (1,1) # some values that x and y can take and that abide by all the constraints\n",
    "f(x0)\n",
    "con1 = {'type':'ineq','fun':cons1}\n",
    "con2 = {'type':'ineq','fun':cons2}\n",
    "con_list = [con1,con2]\n",
    "min = minimize(f,x0,constraints=con_list)\n",
    "\n",
    "print(f'Values of x and y for f(x,y) minimization: x = {min.x[0]}, y = {min.x[1]}')\n",
    "print(f'Minimized f(x,y) value = {min.fun}')\n",
    "\n",
    "print(f(min.x)) # just checking"
   ]
  },
  {
   "cell_type": "markdown",
   "metadata": {},
   "source": [
    "# Part B\n",
    "Evaluate the line integral of the function $f(x, y) = x^2 + y^4$ along the circle $ x^2 + y^2 = 3 $ anticlockwise (scalar integral, not vector). You must use scipy for integration but you may use parameterization"
   ]
  },
  {
   "cell_type": "markdown",
   "metadata": {},
   "source": [
    "**I believe that I am supposed to contour integration (since, it has been given that I must do scalar integration, not vector integration)** <br>\n",
    "$x = \\sqrt3cos(\\theta), y = \\sqrt3sin(\\theta)$ and $ds = \\sqrt(dx(\\theta)^2 + dy(\\theta)^2) => ds = \\sqrt3 d\\theta$ <br>\n",
    "$\\int(f(\\theta)ds(theta)) => \\int(\\sqrt3 f(\\theta)d\\theta) $ over C = $x^2+y^2=3$ "
   ]
  },
  {
   "cell_type": "code",
   "execution_count": 35,
   "metadata": {},
   "outputs": [
    {
     "name": "stdout",
     "output_type": "stream",
     "text": [
      "(53.05363140385085, 5.376843748017279e-09)\n",
      "Line integral of f(x,y) = x^2 + y^4 along C = x^2+y^2=3 is 53.05363140385085\n"
     ]
    }
   ],
   "source": [
    "#TODO\n",
    "from scipy.integrate import quad\n",
    "import numpy as np\n",
    "# given, Contour is x^2+y^2 = 3, converting to plane polar coordinates, x = root(3)cos(theta) and y = root(3)sin(theta)\n",
    "def f(theta):\n",
    "    x = np.cos(theta)*(3**0.5)\n",
    "    y = np.sin(theta)*(3**0.5)\n",
    "    return x**2 + y**4\n",
    "def ds(theta):\n",
    "    dx = - np.sin(theta)*(3**0.5)\n",
    "    dy = np.cos(theta)*(3**0.5)\n",
    "    return ((dx**2 + dy**2)**0.5)\n",
    "def f_ds(theta):                                   # pretty unnecessary, i think --i could have finished off in fn itself, but used 3, but fine \n",
    "    return f(theta)*ds(theta)\n",
    "integrated_val = quad(f_ds,0,2*np.pi) # since the contour is a circle, theta ranges from 0 to 2pi\n",
    "print(integrated_val)\n",
    "print(f'Line integral of f(x,y) = x^2 + y^4 along C = x^2+y^2=3 is {integrated_val[0]}')"
   ]
  },
  {
   "cell_type": "markdown",
   "metadata": {},
   "source": [
    "# **Numpy**"
   ]
  },
  {
   "cell_type": "markdown",
   "metadata": {},
   "source": [
    "### Read Lisan_Al_Gaib.pdf for problem description and complete the following functions"
   ]
  },
  {
   "cell_type": "code",
   "execution_count": 14,
   "metadata": {},
   "outputs": [],
   "source": [
    "import time # to time the execution\n",
    "import numpy as np\n",
    "import matplotlib.pyplot as plt"
   ]
  },
  {
   "cell_type": "code",
   "execution_count": 15,
   "metadata": {},
   "outputs": [
    {
     "name": "stdout",
     "output_type": "stream",
     "text": [
      "(60, 2)\n"
     ]
    }
   ],
   "source": [
    "### TODO 1\n",
    "### Load data from data_path\n",
    "### Check the input file spice_locations.txt to understand the Data Format\n",
    "### Return : np array of size Nx2\n",
    "def load_data(data_path):\n",
    "    return np.loadtxt(data_path, delimiter=',')\n",
    "aa = load_data('spice_locations.txt') # just testing\n",
    "print(np.shape(aa)) # (60,2) => obtained what has been asked!!!\n",
    "# OK"
   ]
  },
  {
   "cell_type": "code",
   "execution_count": 16,
   "metadata": {},
   "outputs": [
    {
     "name": "stdout",
     "output_type": "stream",
     "text": [
      "(10, 2)\n"
     ]
    },
    {
     "data": {
      "text/plain": [
       "array([[ 5.64803089,  6.18778736],\n",
       "       [ 3.14399083,  3.38489955],\n",
       "       [-0.99442494,  0.54036289],\n",
       "       [-1.2664486 , -2.07572772],\n",
       "       [ 2.70462112,  7.0109849 ],\n",
       "       [ 6.01836038,  3.93285029],\n",
       "       [-2.47693115, -2.51163943],\n",
       "       [-3.82805739,  1.54660201],\n",
       "       [ 2.37275322,  7.93443468],\n",
       "       [-2.70610009,  0.31261142]])"
      ]
     },
     "execution_count": 16,
     "metadata": {},
     "output_type": "execute_result"
    }
   ],
   "source": [
    "### TODO 2.1\n",
    "### If init_centers is None, initialize the centers by selecting K data points at random without replacement\n",
    "### Else, use the centers provided in init_centers\n",
    "### Return : np array of size Kx2\n",
    "def initialise_centers(data, K, init_centers=None):\n",
    "    if init_centers is None:\n",
    "        indices = np.random.choice(data.shape[0], size=K, replace=False)\n",
    "        centers = data[indices]\n",
    "        return centers\n",
    "    else:\n",
    "        return init_centers\n",
    "bb = initialise_centers(aa,K = 10) # just testing\n",
    "print(np.shape(bb)) # (10,2)\n",
    "bb\n",
    "# OK"
   ]
  },
  {
   "cell_type": "code",
   "execution_count": 17,
   "metadata": {},
   "outputs": [
    {
     "name": "stdout",
     "output_type": "stream",
     "text": [
      "(60,)\n"
     ]
    },
    {
     "data": {
      "text/plain": [
       "array([1., 1., 1., 1., 1., 1., 1., 1., 1., 1., 1., 1., 1., 1., 1., 1., 1.,\n",
       "       1., 1., 1., 1., 1., 1., 1., 1., 1., 1., 1., 1., 1., 1., 1., 1., 1.,\n",
       "       1., 1., 1., 1., 1., 1., 1., 1., 1., 1., 1., 1., 1., 1., 1., 1., 1.,\n",
       "       1., 1., 1., 1., 1., 1., 1., 1., 1.])"
      ]
     },
     "execution_count": 17,
     "metadata": {},
     "output_type": "execute_result"
    }
   ],
   "source": [
    "### TODO 2.2\n",
    "### Initialize the labels to all ones to size (N,) where N is the number of data points\n",
    "### Return : np array of size N\n",
    "def initialise_labels(data):\n",
    "    N = len(data)\n",
    "    labels = np.ones(N)\n",
    "    return labels\n",
    "cc = initialise_labels(aa)\n",
    "print(np.shape(cc))\n",
    "cc # gg!\n",
    "\n",
    "# ok"
   ]
  },
  {
   "cell_type": "code",
   "execution_count": 18,
   "metadata": {},
   "outputs": [
    {
     "name": "stdout",
     "output_type": "stream",
     "text": [
      "(60, 10)\n"
     ]
    }
   ],
   "source": [
    "### TODO 3.1 : E step\n",
    "### For Each data point, find the distance to each center\n",
    "### Return : np array of size NxK\n",
    "def calculate_distances(data, centers):\n",
    "    distances = np.sqrt(((data[:, np.newaxis, :] - centers[np.newaxis, :, :]) ** 2).sum(axis=2))\n",
    "    return distances\n",
    "dd = calculate_distances(aa,bb)\n",
    "print(np.shape(dd)) # (60,10) = N*K\n",
    "# OK"
   ]
  },
  {
   "cell_type": "code",
   "execution_count": 19,
   "metadata": {},
   "outputs": [
    {
     "name": "stdout",
     "output_type": "stream",
     "text": [
      "(60,)\n"
     ]
    },
    {
     "data": {
      "text/plain": [
       "array([9, 2, 6, 7, 2, 7, 3, 6, 9, 3, 3, 6, 2, 9, 3, 3, 7, 2, 6, 2, 9, 7,\n",
       "       9, 9, 3, 2, 2, 2, 6, 6, 1, 5, 4, 4, 8, 5, 4, 0, 5, 1, 0, 1, 1, 0,\n",
       "       0, 4, 0, 0, 0, 1, 4, 4, 5, 4, 1, 1, 0, 0, 5, 0])"
      ]
     },
     "execution_count": 19,
     "metadata": {},
     "output_type": "execute_result"
    }
   ],
   "source": [
    "### TODO 3.2 : E step\n",
    "### For Each data point, assign the label of the nearest center\n",
    "### Return : np array of size N\n",
    "def update_labels(distances):\n",
    "    updated_labels = np.argmin(distances, axis=1)\n",
    "    return updated_labels\n",
    "ee = update_labels(dd)\n",
    "print(np.shape(ee)) # less go!\n",
    "ee"
   ]
  },
  {
   "cell_type": "code",
   "execution_count": 36,
   "metadata": {},
   "outputs": [
    {
     "name": "stdout",
     "output_type": "stream",
     "text": [
      "(10, 2)\n"
     ]
    },
    {
     "data": {
      "text/plain": [
       "array([[ 5.84846258,  6.08180736],\n",
       "       [ 3.38070865,  3.80146599],\n",
       "       [-0.28373278,  0.70768205],\n",
       "       [-0.98090812, -2.12925741],\n",
       "       [ 2.93081656,  6.41009394],\n",
       "       [ 6.08349118,  4.06537595],\n",
       "       [-3.10973182, -1.89604485],\n",
       "       [-3.77736472,  1.61786492],\n",
       "       [ 2.37275322,  7.93443468],\n",
       "       [-2.69084547,  0.05622699]])"
      ]
     },
     "execution_count": 36,
     "metadata": {},
     "output_type": "execute_result"
    }
   ],
   "source": [
    "### TODO 4 : M step\n",
    "### Update the centers to the mean of the data points assigned to it\n",
    "### Return : np array of size Kx2\n",
    "def update_centers(data, labels, K): # this 'labels' is the 'new labels'\n",
    "    new_centers = np.zeros((K, data.shape[1]))\n",
    "    for k in range(K):\n",
    "        # Select data points belonging to the current cluster\n",
    "        cluster_points = data[labels == k]\n",
    "        if len(cluster_points) > 0:  # Avoid empty clusters\n",
    "            new_centers[k] = np.mean(cluster_points, axis=0)\n",
    "    return new_centers\n",
    "\n",
    "\"\"\" a1= np.array([[1,2],[3,4],[5,6]])\n",
    "np.mean(a1,axis=0)\n",
    "asas = {1:'a',2:'b',3:'c',4:'d'}\n",
    "print(list(asas.values())) \"\"\"\n",
    "\n",
    "ff = update_centers(aa,ee,10)\n",
    "print(np.shape(ff))\n",
    "ff"
   ]
  },
  {
   "cell_type": "code",
   "execution_count": 21,
   "metadata": {},
   "outputs": [],
   "source": [
    "### TODO 6 : Check convergence\n",
    "### Check if the labels have changed from the previous iteration\n",
    "### Return : True / False\n",
    "def check_termination(labels1, labels2):\n",
    "    if (labels1 == labels2).all():\n",
    "        return True\n",
    "    else:\n",
    "        return False\n",
    "    \n",
    "# OK    "
   ]
  },
  {
   "cell_type": "code",
   "execution_count": 22,
   "metadata": {},
   "outputs": [],
   "source": [
    "### DON'T CHANGE ANYTHING IN THE FOLLOWING FUNCTION\n",
    "def kmeans(data_path:str, K:int, init_centers):\n",
    "    '''\n",
    "    Input :\n",
    "        data (type str): path to the file containing the data\n",
    "        K (type int): number of clusters\n",
    "        init_centers (type numpy.ndarray): initial centers. shape = (K, 2) or None\n",
    "    Output :\n",
    "        centers (type numpy.ndarray): final centers. shape = (K, 2)\n",
    "        labels (type numpy.ndarray): label of each data point. shape = (N,)\n",
    "        time (type float): time taken by the algorithm to converge in seconds\n",
    "    N is the number of data points each of shape (2,)\n",
    "    '''\n",
    "    data = load_data(data_path)    \n",
    "    centers = initialise_centers(data, K, init_centers)\n",
    "    labels = initialise_labels(data)\n",
    "\n",
    "    start_time = time.time() # Time stamp \n",
    "\n",
    "    while True:\n",
    "        distances = calculate_distances(data, centers)\n",
    "        labels_new = update_labels(distances)\n",
    "        centers = update_centers(data, labels_new, K)\n",
    "        if check_termination(labels, labels_new): break\n",
    "        else: labels = labels_new\n",
    " \n",
    "    end_time = time.time() # Time stamp after the algorithm ends\n",
    "    return centers, labels, end_time - start_time "
   ]
  },
  {
   "cell_type": "code",
   "execution_count": 23,
   "metadata": {},
   "outputs": [],
   "source": [
    "### TODO 7\n",
    "def visualise(data_path, labels, centers):\n",
    "    data = load_data(data_path)\n",
    "\n",
    "    # Scatter plot of the data points\n",
    "    plt.scatter(data[:, 0], data[:, 1], c=labels, s=50, cmap='viridis')\n",
    "    centers = np.array(centers)\n",
    "    print(centers[:,1])\n",
    "    plt.scatter(centers[:, 0], centers[:, 1], c='black', s=200, alpha=0.5)\n",
    "\n",
    "    plt.title('K-means clustering') ### Set title as 'K-means clustering'\n",
    "\n",
    "    plt.xlabel('Longitude')### Set xlabel as 'Longitude'\n",
    "\n",
    "    plt.ylabel('Latitude')### Set ylabel as 'Latitude'\n",
    "\n",
    "    plt.savefig('kmeans_2.png')### Save the plot as 'kmeans.png'\n",
    "\n",
    "\n",
    "    ## DO NOT CHANGE THE FOLLOWING LINE\n",
    "    return plt"
   ]
  },
  {
   "cell_type": "code",
   "execution_count": 24,
   "metadata": {},
   "outputs": [
    {
     "name": "stdout",
     "output_type": "stream",
     "text": [
      "Time taken for the algorithm to converge: 0.002671957015991211\n",
      "[ 0.54767235 -0.85791295  4.78085297  6.68471058]\n"
     ]
    },
    {
     "data": {
      "text/plain": [
       "<module 'matplotlib.pyplot' from '/usr/lib/python3/dist-packages/matplotlib/pyplot.py'>"
      ]
     },
     "execution_count": 24,
     "metadata": {},
     "output_type": "execute_result"
    },
    {
     "data": {
      "image/png": "[encoded data removed]",
      "text/plain": [
       "<Figure size 640x480 with 1 Axes>"
      ]
     },
     "metadata": {},
     "output_type": "display_data"
    }
   ],
   "source": [
    "### After you have completed the above functions, run the following code to generate the plot\n",
    "data_path = 'spice_locations.txt'\n",
    "K, init_centers = 4, None\n",
    "centers, labels, time_taken = kmeans(data_path, K, init_centers)\n",
    "print('Time taken for the algorithm to converge:', time_taken)\n",
    "visualise(data_path, labels, centers)"
   ]
  },
  {
   "cell_type": "markdown",
   "metadata": {},
   "source": [
    "***\n",
    "***Gokularamanan R S <br> 23B1854***"
   ]
  }
 ],
 "metadata": {
  "kernelspec": {
   "display_name": "Python 3",
   "language": "python",
   "name": "python3"
  },
  "language_info": {
   "codemirror_mode": {
    "name": "ipython",
    "version": 3
   },
   "file_extension": ".py",
   "mimetype": "text/x-python",
   "name": "python",
   "nbconvert_exporter": "python",
   "pygments_lexer": "ipython3",
   "version": "3.12.3"
  }
 },
 "nbformat": 4,
 "nbformat_minor": 2
}
